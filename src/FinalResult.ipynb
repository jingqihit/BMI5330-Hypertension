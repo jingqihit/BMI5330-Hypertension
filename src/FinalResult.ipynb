{
 "cells": [
  {
   "cell_type": "code",
   "execution_count": 25,
   "metadata": {},
   "outputs": [
    {
     "name": "stdout",
     "output_type": "stream",
     "text": [
      "True ../GSEA/GO_UBIQUITIN_LIKE_PROTEIN_LIGASE_ACTIVITY.xls 0.007889546\n",
      "True ../GSEA/GO_UBIQUITIN_LIKE_PROTEIN_TRANSFERASE_ACTIVITY.xls 0.0\n",
      "True ../GSEA/GO_ARF_GUANYL_NUCLEOTIDE_EXCHANGE_FACTOR_ACTIVITY.xls 0.025145067\n",
      "True ../GSEA/GO_LYSINE_ACETYLATED_HISTONE_BINDING.xls 0.040076334\n",
      "True ../GSEA/GO_PHOSPHOLIPID_TRANSLOCATING_ATPASE_ACTIVITY.xls 0.030592734\n",
      "True ../GSEA/GO_3_5_EXONUCLEASE_ACTIVITY.xls 0.02471483\n",
      "True ../GSEA/GO_UBIQUITIN_LIKE_PROTEIN_SPECIFIC_PROTEASE_ACTIVITY.xls 0.02534113\n",
      "True ../GSEA/GO_ANDROGEN_RECEPTOR_BINDING.xls 0.01934236\n",
      "True ../GSEA/GO_ATPASE_ACTIVITY_COUPLED.xls 0.011857707\n",
      "True ../GSEA/GO_STEROID_HORMONE_RECEPTOR_BINDING.xls 0.038986355\n",
      "True ../GSEA/GO_NUCLEOCYTOPLASMIC_TRANSPORTER_ACTIVITY.xls 0.011560693\n",
      "True ../GSEA/GO_THIOL_DEPENDENT_UBIQUITIN_SPECIFIC_PROTEASE_ACTIVITY.xls 0.043222003\n",
      "380 520\n"
     ]
    }
   ],
   "source": [
    "import sys\n",
    "import os\n",
    "\n",
    "gene_count = {}\n",
    "with open ( '../GSEA/gsea_report_for_Hypertension_1543194340775.xls' ) as infile:\n",
    "    for line in infile:\n",
    "        if line.startswith( 'NAME' ):\n",
    "            continue\n",
    "        line = line.strip().split( '\\t' )\n",
    "        geneset = line[0]\n",
    "        pvalue = float( line[6] )\n",
    "        if pvalue >= 0.05:\n",
    "            continue\n",
    "        \n",
    "        filename = '../GSEA/' + geneset + '.xls'\n",
    "        \n",
    "        # details are not generated, by default GSEA only product details for the first 20 gene sets\n",
    "        if not os.path.exists( filename ):\n",
    "            continue\n",
    "        \n",
    "        with open( filename ) as infile2:\n",
    "            for line2 in infile2:\n",
    "                if line2.startswith( 'NAME' ):\n",
    "                    continue\n",
    "                symbol = line2.strip().split( '\\t' )[1]\n",
    "                flag = line2.strip().split( '\\t' )[-1]\n",
    "                if flag == 'Yes':\n",
    "                    gene_count.setdefault( symbol, 0 )\n",
    "                    gene_count[ symbol ] += 1\n",
    "                \n",
    "        \n",
    "        print( os.path.exists( filename ), filename, pvalue )\n",
    "\n",
    "with open ( '../result/final_gene.txt', 'w' ) as outfile:\n",
    "    count = 0\n",
    "    for k, v in gene_count.items():\n",
    "        count += v\n",
    "        outfile.write( k + '\\n' )\n",
    "    print( len( gene_count ), count )\n",
    "    \n",
    "\n"
   ]
  },
  {
   "cell_type": "code",
   "execution_count": 26,
   "metadata": {},
   "outputs": [],
   "source": [
    "# Load ClinVar result\n",
    "\n",
    "clinvar_set = set()\n",
    "with open( '../resource/clinvar/clinvar_result.txt' ) as infile:\n",
    "    for line in infile:\n",
    "        genes = line.strip().split( '\\t' )[1]\n",
    "        for gene in genes.split( '|' ):\n",
    "            clinvar_set.add( gene )\n",
    "\n",
    "with open( '../result/final_clinvar.txt', 'w' ) as outfile:\n",
    "    for gene in clinvar_set:\n",
    "        outfile.write( gene + '\\n' )\n",
    "        \n",
    "    "
   ]
  },
  {
   "cell_type": "code",
   "execution_count": 27,
   "metadata": {},
   "outputs": [],
   "source": [
    "# GWAS catolog\n",
    "gwas_set = set()\n",
    "with open( '../resource/gwasCatalog/download_1' ) as infile:\n",
    "    for line in infile:\n",
    "        genes = line.strip().split( '\",\"' )[7]\n",
    "        for gene in genes.split( ',' ):\n",
    "            if gene.strip() == '-':\n",
    "                continue\n",
    "            gwas_set.add( gene.strip() )\n",
    "        \n",
    "with open( '../resource/gwasCatalog/download_2' ) as infile:\n",
    "    for line in infile:\n",
    "        genes = line.strip().split( '\",\"' )[7]\n",
    "        for gene in genes.split( ',' ):\n",
    "            if gene.strip() == '-':\n",
    "                continue\n",
    "            gwas_set.add( gene.strip() )\n",
    "        \n",
    "with open( '../result/final_gwas.txt', 'w' ) as outfile:\n",
    "    for gene in gwas_set:\n",
    "        outfile.write( gene + '\\n' )"
   ]
  },
  {
   "cell_type": "code",
   "execution_count": null,
   "metadata": {},
   "outputs": [],
   "source": []
  }
 ],
 "metadata": {
  "kernelspec": {
   "display_name": "Python 3",
   "language": "python",
   "name": "python3"
  },
  "language_info": {
   "codemirror_mode": {
    "name": "ipython",
    "version": 3
   },
   "file_extension": ".py",
   "mimetype": "text/x-python",
   "name": "python",
   "nbconvert_exporter": "python",
   "pygments_lexer": "ipython3",
   "version": "3.6.3"
  }
 },
 "nbformat": 4,
 "nbformat_minor": 2
}
