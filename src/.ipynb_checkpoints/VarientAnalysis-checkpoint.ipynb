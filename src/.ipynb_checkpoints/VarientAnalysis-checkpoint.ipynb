{
 "cells": [
  {
   "cell_type": "code",
   "execution_count": null,
   "metadata": {},
   "outputs": [],
   "source": []
  },
  {
   "cell_type": "code",
   "execution_count": 6,
   "metadata": {},
   "outputs": [
    {
     "name": "stdout",
     "output_type": "stream",
     "text": [
      "20359\n"
     ]
    }
   ],
   "source": [
    "import sys\n",
    "import os\n",
    "\n",
    "gene_symbol_set = set()\n",
    "\n",
    "with open( '../data/gene_id_names.txt' ) as infile:\n",
    "    for line in infile:\n",
    "        geneid = line.strip().split( '\\t' )[0]\n",
    "        genesymbol = line.strip().split( '\\t' )[-2]\n",
    "        genesymbol = genesymbol.strip().strip( '\"' ).strip()\n",
    "        if genesymbol == '':\n",
    "            continue\n",
    "        gene_symbol_set.add( genesymbol )\n",
    "print( len( gene_symbol_set ) )\n",
    "\n",
    "\n",
    "with open( '../resource/gencode.v19.annotation.gff3' ) as infile, \\\n",
    "        open( '../result/gene_annotation.bed', 'w' ) as outfile:\n",
    "    for line in infile:\n",
    "        if line.find( '\\tCDS\\t' ) < 0:\n",
    "            # ignore non-cds entries;\n",
    "            continue\n",
    "            \n",
    "        line = line.strip().split( '\\t' )\n",
    "        chromosome = line[0].replace( 'chr', '' )\n",
    "        start = line[3]\n",
    "        end = line[4]\n",
    "        attrs = line[-1]\n",
    "        for attr in attrs.split( ';' ):\n",
    "            k, v = attr.split( '=' )\n",
    "            if k == 'gene_name':\n",
    "                symbol = v\n",
    "                if symbol in gene_symbol_set:\n",
    "                    outfile.write( chromosome + '\\t' + start + '\\t' + end + '\\t' + attr + '\\n' )\n",
    "    \n",
    "with open( '../resource/ALL.wgs.integrated_phase1_v3.20101123.snps_indels_sv.sites.vcf' ) as infile, \\\n",
    "        open( '../result/gene_varient.bed', 'w' ) as outfile:\n",
    "    for line in infile:\n",
    "        if( line.startswith( '#' ) ):\n",
    "            continue\n",
    "        line = line.strip().split( '\\t' )\n",
    "        chromosome = line[0]\n",
    "        start = str(int(line[1])-1)\n",
    "        end = line[1]\n",
    "        attrs = line[-1]\n",
    "\n",
    "        for attr in attrs.split( ';' ):\n",
    "            k, v = attr.split( '=' )\n",
    "            if k == 'VT':\n",
    "                outfile.write( chromosome + '\\t' + start + '\\t' + end + '\\t' + attr + '\\n' )\n",
    "    \n"
   ]
  },
  {
   "cell_type": "code",
   "execution_count": 7,
   "metadata": {},
   "outputs": [
    {
     "name": "stdout",
     "output_type": "stream",
     "text": [
      "/bin/sh: 1: intersectBed: not found\r\n"
     ]
    }
   ],
   "source": [
    "!intersectBed -wo -a gene_annotation.bed -b gene_varient.bed > gene_overlap.txt"
   ]
  },
  {
   "cell_type": "code",
   "execution_count": 16,
   "metadata": {},
   "outputs": [
    {
     "name": "stdout",
     "output_type": "stream",
     "text": [
      "16952\n"
     ]
    }
   ],
   "source": [
    "import sys\n",
    "import os\n",
    "import numpy as np\n",
    "\n",
    "gene_varients = {}\n",
    "with open( '../result/gene_overlap.txt' ) as infile:\n",
    "    for line in infile:\n",
    "        line = line.strip().split( '\\t' )\n",
    "        symbol = line[3].split('=')[-1]\n",
    "        varient = line[-2].split('=')[-1]\n",
    "        gene_varients.setdefault( symbol, {} )\n",
    "        gene_varients[ symbol ].setdefault( varient, 0 )\n",
    "        gene_varients[ symbol ][ varient ] += 1\n",
    "\n",
    "print( len( gene_varients ) )\n"
   ]
  },
  {
   "cell_type": "code",
   "execution_count": 18,
   "metadata": {},
   "outputs": [],
   "source": [
    "import sys\n",
    "import os\n",
    "import numpy as np\n",
    "\n",
    "group_varients = {}\n",
    "\n",
    "with open( \"../result/gene_mean_pvalues.txt\" ) as infile:\n",
    "    for line in infile:\n",
    "        line = line.strip().split( '\\t' )\n",
    "        symbol = line[1].strip('\"')\n",
    "        pvalue = float( line[2] )\n",
    "        vdiff = float( line[5])\n",
    "        \n",
    "        if pvalue < 0.05:\n",
    "            if vdiff >= 0:\n",
    "                group = \"group1\"\n",
    "            else:\n",
    "                group = \"group2\"\n",
    "        else:\n",
    "            group = \"group3\"\n",
    "            \n",
    "        group_varients.setdefault( group, {} )\n",
    "        if symbol in gene_varients:\n",
    "            group_varients[ group ].setdefault( symbol, {} )\n",
    "            group_varients[ group ][ symbol ] = gene_varients[ symbol ]\n",
    "\n",
    "        \n",
    "def get_numbers( group_varients, varient ):\n",
    "    ret = {}\n",
    "    for k, v in group_varients.items():\n",
    "        for k2, v2 in v.items():\n",
    "            for k3, v3 in v2.items():\n",
    "                if k3 == varient:\n",
    "                    ret.setdefault( k, [] )\n",
    "                    ret[ k ].append( v3 )\n",
    "\n",
    "    return ret\n"
   ]
  },
  {
   "cell_type": "code",
   "execution_count": 36,
   "metadata": {},
   "outputs": [
    {
     "name": "stdout",
     "output_type": "stream",
     "text": [
      "ttest_ind:            t = 5.48796  p = 4.12721e-08\n",
      "The difference are significant.\n",
      "ttest_ind:            t = 0.133463  p = 0.893829\n",
      "The difference are significant.\n"
     ]
    },
    {
     "name": "stderr",
     "output_type": "stream",
     "text": [
      "/opt/conda/lib/python3.6/site-packages/matplotlib/figure.py:403: UserWarning: matplotlib is currently using a non-GUI backend, so cannot show the figure\n",
      "  \"matplotlib is currently using a non-GUI backend, \"\n"
     ]
    },
    {
     "data": {
      "image/png": "[encoded data removed]",
      "text/plain": [
       "<matplotlib.figure.Figure at 0x7f345fb06e48>"
      ]
     },
     "metadata": {},
     "output_type": "display_data"
    }
   ],
   "source": [
    "import matplotlib as mpl\n",
    "import matplotlib.pyplot as plt\n",
    "from scipy.stats import ttest_ind, ttest_ind_from_stats\n",
    "\n",
    "ret = get_numbers( group_varients, 'SNP' )\n",
    "\n",
    "t, p = ttest_ind(ret['group1'], ret['group3'], equal_var=False)\n",
    "print(\"ttest_ind:            t = %g  p = %g\" % (t, p))\n",
    "print(\"The difference are significant.\" )\n",
    "t, p = ttest_ind(ret['group2'], ret['group3'], equal_var=False)\n",
    "print(\"ttest_ind:            t = %g  p = %g\" % (t, p))\n",
    "print(\"The difference are significant.\" )\n",
    "\n",
    "\n",
    "data_to_plot = [ ret['group1'], ret['group2'], ret['group3'] ]\n",
    "fig = plt.figure(1, figsize=(9, 6))\n",
    "\n",
    "# Create an axes instance\n",
    "ax = fig.add_subplot(111)\n",
    "\n",
    "# Create the boxplot\n",
    "ax.boxplot(data_to_plot, showfliers=False) # too much outliers, ignore them for now.\n",
    "ax.set_xticklabels(['group1', 'group2', 'group3'])\n",
    "fig.show()\n"
   ]
  },
  {
   "cell_type": "code",
   "execution_count": 37,
   "metadata": {},
   "outputs": [
    {
     "name": "stdout",
     "output_type": "stream",
     "text": [
      "ttest_ind:            t = 1.98571  p = 0.0475067\n",
      "The difference are significant.\n",
      "ttest_ind:            t = -0.219041  p = 0.826661\n",
      "The difference are significant.\n"
     ]
    },
    {
     "name": "stderr",
     "output_type": "stream",
     "text": [
      "/opt/conda/lib/python3.6/site-packages/matplotlib/figure.py:403: UserWarning: matplotlib is currently using a non-GUI backend, so cannot show the figure\n",
      "  \"matplotlib is currently using a non-GUI backend, \"\n"
     ]
    },
    {
     "data": {
      "image/png": "[encoded data removed]",
      "text/plain": [
       "<matplotlib.figure.Figure at 0x7f345fb06630>"
      ]
     },
     "metadata": {},
     "output_type": "display_data"
    }
   ],
   "source": [
    "import matplotlib as mpl\n",
    "import matplotlib.pyplot as plt\n",
    "\n",
    "ret = get_numbers( group_varients, 'INDEL' )\n",
    "t, p = ttest_ind(ret['group1'], ret['group3'], equal_var=False)\n",
    "print(\"ttest_ind:            t = %g  p = %g\" % (t, p))\n",
    "print(\"The difference are significant.\" )\n",
    "t, p = ttest_ind(ret['group2'], ret['group3'], equal_var=False)\n",
    "print(\"ttest_ind:            t = %g  p = %g\" % (t, p))\n",
    "print(\"The difference are significant.\" )\n",
    "\n",
    "\n",
    "data_to_plot = [ ret['group1'], ret['group2'], ret['group3'] ]\n",
    "fig = plt.figure(1, figsize=(9, 6))\n",
    "\n",
    "# Create an axes instance\n",
    "ax = fig.add_subplot(111)\n",
    "\n",
    "# Create the boxplot\n",
    "ax.boxplot(data_to_plot, showfliers=False) # too much outliers, ignore them for now.\n",
    "ax.set_xticklabels(['group1', 'group2', 'group3'])\n",
    "fig.show()"
   ]
  },
  {
   "cell_type": "code",
   "execution_count": 38,
   "metadata": {},
   "outputs": [
    {
     "name": "stdout",
     "output_type": "stream",
     "text": [
      "ttest_ind:            t = 1.57349  p = 0.137612\n",
      "The difference are significant.\n",
      "ttest_ind:            t = 0.828343  p = 0.411736\n",
      "The difference are significant.\n"
     ]
    },
    {
     "name": "stderr",
     "output_type": "stream",
     "text": [
      "/opt/conda/lib/python3.6/site-packages/matplotlib/figure.py:403: UserWarning: matplotlib is currently using a non-GUI backend, so cannot show the figure\n",
      "  \"matplotlib is currently using a non-GUI backend, \"\n"
     ]
    },
    {
     "data": {
      "image/png": "[encoded data removed]",
      "text/plain": [
       "<matplotlib.figure.Figure at 0x7f345f9dafd0>"
      ]
     },
     "metadata": {},
     "output_type": "display_data"
    }
   ],
   "source": [
    "import matplotlib as mpl\n",
    "import matplotlib.pyplot as plt\n",
    "\n",
    "ret = get_numbers( group_varients, 'SV' )\n",
    "\n",
    "t, p = ttest_ind(ret['group1'], ret['group3'], equal_var=False)\n",
    "print(\"ttest_ind:            t = %g  p = %g\" % (t, p))\n",
    "print(\"The difference are significant.\" )\n",
    "t, p = ttest_ind(ret['group2'], ret['group3'], equal_var=False)\n",
    "print(\"ttest_ind:            t = %g  p = %g\" % (t, p))\n",
    "print(\"The difference are significant.\" )\n",
    "\n",
    "\n",
    "data_to_plot = [ ret['group1'], ret['group2'], ret['group3'] ]\n",
    "fig = plt.figure(1, figsize=(9, 6))\n",
    "\n",
    "# Create an axes instance\n",
    "ax = fig.add_subplot(111)\n",
    "\n",
    "# Create the boxplot\n",
    "ax.boxplot(data_to_plot) # too much outliers, ignore them for now.\n",
    "ax.set_xticklabels(['group1', 'group2', 'group3'])\n",
    "fig.show()"
   ]
  },
  {
   "cell_type": "code",
   "execution_count": null,
   "metadata": {},
   "outputs": [],
   "source": []
  }
 ],
 "metadata": {
  "kernelspec": {
   "display_name": "Python 3",
   "language": "python",
   "name": "python3"
  },
  "language_info": {
   "codemirror_mode": {
    "name": "ipython",
    "version": 3
   },
   "file_extension": ".py",
   "mimetype": "text/x-python",
   "name": "python",
   "nbconvert_exporter": "python",
   "pygments_lexer": "ipython3",
   "version": "3.6.3"
  }
 },
 "nbformat": 4,
 "nbformat_minor": 2
}
