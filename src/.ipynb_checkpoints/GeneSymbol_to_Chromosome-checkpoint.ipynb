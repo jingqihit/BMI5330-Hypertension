{
 "cells": [
  {
   "cell_type": "code",
   "execution_count": 19,
   "metadata": {},
   "outputs": [
    {
     "name": "stdout",
     "output_type": "stream",
     "text": [
      "20359\n"
     ]
    }
   ],
   "source": [
    "import sys\n",
    "import os\n",
    "import numpy as np\n",
    "\n",
    "symbol_chromosome = {}\n",
    "with open( '../data/gene_id_names.txt' ) as infile:\n",
    "    for line in infile:\n",
    "        geneid = line.strip().split( '\\t' )[0]\n",
    "        genesymbol = line.strip().split( '\\t' )[-2]\n",
    "        genesymbol = genesymbol.strip().strip( '\"' ).strip()\n",
    "        if genesymbol == '':\n",
    "            continue\n",
    "        symbol_chromosome.setdefault( genesymbol, set() )\n",
    "print( len( symbol_chromosome ) )\n"
   ]
  },
  {
   "cell_type": "code",
   "execution_count": 24,
   "metadata": {},
   "outputs": [
    {
     "name": "stdout",
     "output_type": "stream",
     "text": [
      "100000\n",
      "200000\n",
      "300000\n",
      "400000\n",
      "500000\n",
      "600000\n",
      "700000\n",
      "800000\n",
      "900000\n",
      "1000000\n",
      "1100000\n",
      "1200000\n",
      "1300000\n",
      "1400000\n",
      "1500000\n",
      "1600000\n",
      "1700000\n",
      "1800000\n",
      "1900000\n",
      "2000000\n",
      "2100000\n",
      "2200000\n",
      "2300000\n",
      "2400000\n",
      "2500000\n",
      "2600000\n"
     ]
    }
   ],
   "source": [
    "chromosome_count = {}\n",
    "\n",
    "index = 0\n",
    "with open( '../resource/gencode.v19.annotation.gff3' ) as infile, \\\n",
    "        open( '../result/genesymbol_chromosome.txt', 'w' ) as outfile:\n",
    "    for line in infile:\n",
    "        if line.startswith( '#' ):\n",
    "            continue\n",
    "        line = line.strip().split( '\\t' )\n",
    "        chromosome = line[0]\n",
    "        symbol = ''\n",
    "        \n",
    "        chromosome_count.setdefault( chromosome, [ set(), set() ] )\n",
    "        \n",
    "        for attr in line[-1].split( ';' ):\n",
    "            name, value = attr.split( '=' )\n",
    "            if name != 'gene_name':\n",
    "                continue\n",
    "            symbol = value\n",
    "            chromosome_count[ chromosome ][1].add( symbol )\n",
    "\n",
    "            if symbol in symbol_chromosome:\n",
    "                chromosome_count[ chromosome ][0].add( symbol )\n",
    "\n",
    "        index += 1\n",
    "        \n",
    "        if index % 100000 == 0:\n",
    "            print( index )\n",
    "\n",
    "    \n",
    "    for k, v in chromosome_count.items():\n",
    "        outfile.write( k + '\\t' + str( len(v[0]) ) + '\\t' + str( len(v[1] ) ) + '\\n' )\n",
    "        "
   ]
  },
  {
   "cell_type": "code",
   "execution_count": null,
   "metadata": {},
   "outputs": [],
   "source": []
  }
 ],
 "metadata": {
  "kernelspec": {
   "display_name": "Python 3",
   "language": "python",
   "name": "python3"
  },
  "language_info": {
   "codemirror_mode": {
    "name": "ipython",
    "version": 3
   },
   "file_extension": ".py",
   "mimetype": "text/x-python",
   "name": "python",
   "nbconvert_exporter": "python",
   "pygments_lexer": "ipython3",
   "version": "3.6.3"
  }
 },
 "nbformat": 4,
 "nbformat_minor": 2
}
